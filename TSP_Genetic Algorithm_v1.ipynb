{
 "cells": [
  {
   "cell_type": "markdown",
   "metadata": {},
   "source": [
    "# Travelling Salesman Problem optimizaion using Genetic Algorithm"
   ]
  },
  {
   "cell_type": "markdown",
   "metadata": {},
   "source": [
    "This is my firt project in Python. Motivate for learning Python is primarily to code AI and ML algorithms. As I have done this project to test myself on Python basics, I have on-purpose avoided use of advanced python packages such numpy or pandas. The program imports only 2 packages - random (to shuffle and generate random numbers) and xlrd (to read excel file).\n",
    "\n",
    "## Travelling Salesman Problem (TSP)\n",
    "I chose TSP as a good candidate to solve, as its a simple problem to understand and yet, solving via brute-force, it grows in complexity by n! (n factorial). \n",
    "https://en.wikipedia.org/wiki/Big_O_notation\n",
    "https://en.wikipedia.org/wiki/Travelling_salesman_problem\n",
    "TSP asks the following question: \"Given a list of cities and the distances between each pair of cities, what is the shortest possible route that visits each city and returns to the origin city?\n",
    "\n",
    "## Genetic Algorithm (GA)\n",
    "https://en.wikipedia.org/wiki/Genetic_algorithm\n",
    "Genetic Algorithm is a heuristic algorithm inspired by process of natural selection based on the concept of Darwin's theory of evolution. GA is one of the meta-heuristics that has been frequently utilized to find near-optimum solutions of many combinational problems. In GA, a randomly generated 'population' of possible solutions is iteratively 'mated' to produce successive generations of 'children' population, which converge toward better and better solutions.\n",
    "\n",
    "https://iccl.inf.tu-dresden.de/w/images/b/b7/GA_for_TSP.pdf\n",
    "\n",
    "The above is the primary paper I have referenced to develop my GA algorithm code. As the paper notes, TSP is not a straight forward candidate to apply GA, as encoding of a TSP solution as a bit string is not convenient. TSP, as opposed to most problems tackled by GA, is a pure ordering problem. Hence, the original GA algorithm must be modified to handle combinatorial optimization problems like TSP. The paper thoroughly discusses various extensions of GA for 'encoding', 'mating' and 'mutating' solution population. It also gives computational results comparing the superiority of the various extensions.\n",
    "\n",
    "I have selected the \"Order Crossover (OX)\" as mating technique along with simple 'Swap' technique for mutation. Short explanation of the 2 techniques is below\n",
    "\n",
    "Order Crossover (OX):\n",
    "This allows two cut points to be randomly chosen on the parent chromosomes. In order to create an offspring, the string between the two cut points in the first parent is first copied to the offspring. Then, the remaining positions are filled by considering the sequence of cities in the second parent, starting after the second cut point (when the end of the chromosome is reached, the sequence continues at position 1). The OX tries to prserve the order of cities in parents rathen than absolute position. Example\n",
    "\n",
    "parent 1: 1 2 | 5 6 4 | 3 8 7\n",
    "\n",
    "parent 2: 1 4 | 2 3 6 | 5 7 8\n",
    "\n",
    "offspring\n",
    "\n",
    "(step 1): - - | 5 6 4 | - - -\n",
    "\n",
    "(step 2): 2 3 | 5 6 4 | 7 8 1\n",
    "\n",
    "\n",
    "In step 2, city 5 is first considered to occupy position 6, but it is discarded because it is already included in the offspring. City 7 is the next city to be considered, and it is inserted at position 6. Then, city 8 is inserted at position 7, city 1 is inserted at position 8, city 4 is discarded, city 2 is inserted at position 1, city 3 is inserted at position 2, and city 6 is discarded.\n",
    "\n",
    "Swap:\n",
    "Two cities are randomly selected and swapped (i.e. their positions are exchanged). This mutation operator is the closest in philosophy to the original mutation operator, because it only slightly modifies the original tour."
   ]
  },
  {
   "attachments": {},
   "cell_type": "markdown",
   "metadata": {},
   "source": [
    "## Format of Distance matrix:\n",
    "I have considered city 0 as both starting and ending position for a complete tour. The format of tabulating the distance bewteen each of the cities in excel is as given below for a sample of 8 cities\n",
    "\n",
    "0\t1\t2\t3\t4\t5\t6\t7\t8\n",
    "0\t61\t88\t15\t33\t62\t73\t81\t56\n",
    "51\t0\t52\t70\t72\t19\t48\t19\t5\n",
    "78\t42\t0\t25\t2\t7\t31\t51\t36\n",
    "5\t60\t15\t0\t59\t76\t80\t65\t44\n",
    "23\t62\t12\t49\t0\t90\t90\t31\t33\n",
    "52\t9\t17\t66\t80\t0\t52\t68\t63\n",
    "63\t38\t21\t70\t80\t42\t0\t7\t94\n",
    "71\t9\t41\t55\t21\t58\t17\t0\t80\n",
    "46\t15\t26\t34\t23\t53\t84\t70\t0\n",
    "\n",
    "The first row represents the number of the city. Its always [0 1 2 3 4] etc. There are no columns representing the cities, as it can be readily understood from the table. 2nd row is for city 0, 3rd row for city 1 and so on. I have eliminated the city column to simplify reading the excel. Once the table is read, the first row, representing the city is deleted, giving a table (2D list), where city 0 is at index 0, city 1 at index 1 and so on. This becomes extremely convenient to code, as index can directly be referenced in lieu of intended city.\n",
    "\n",
    "The sample distances are randomly generated and manually modified few cells (for 8 city sample in sheet1) to make the table asymmetric, adding bit of complexity. All distances are between 1 to 100. In case actual distances are beyond 1 to 100 range, I suggest normalizing distances between 1 to 100. Otherwise it may affect the Fit_Inverse calculation in the code. Sheet2 has larger sample with 50 cities."
   ]
  },
  {
   "cell_type": "markdown",
   "metadata": {},
   "source": [
    "## Description of variables and functions\n",
    "\n",
    "Dist_Grid : Distance Grid. 2D list containing the distances between all 2 city pairs. Index of the list represents the city number. For example Dist_Grid[0][2] gives distance from city 0 to city 2. Dist_Grid[5][3] distance from city 5 to city 3\n",
    "Get_Dist_Data: Function to get Dist_Grid 2D list. Reads excel containing distances between cities encoded in the above mentioned format. Deletes the header row and returns Dist_Grid\n",
    "Popln_size : Size of the population\n",
    "Iterations : Number of children generations to run the algorithm\n",
    "Mutate_Freq : Mutation frequency. Once a child is created, it is mutated with this probability\n",
    "Length : Number of cities excluding city 0\n",
    "Popln : Parent population of any generation\n",
    "Children : Children population of any generation, after mating of parents\n",
    "Popln_fit : Total length of the route encoded in each parent. Actually this represents inverse of fitness. Higher the route length lower is the fitness\n",
    "Fit_Inverse : This list represents true fitness of each parent. The inverse of the route lenght is raised to a power in order to give higher weightage to better solutions. Without raising to power the algorithm was not converging. Also multiplied by 10,000 to avoid values less than 1 before squaring\n",
    "Fit_Power : The power to which the Fit_Inverse is raised. Higher the power, more weightage to fitter members\n",
    "Best_Member : Best route discovered across any generation\n",
    "Best_Member_Fit : Shortest route length discovered across any generation. Basically route lenght of Best_Member\n",
    "gen_popln : Function that generates initial random set of parent population\n",
    "fit_func : Function that calculates route length of each parent\n",
    "mate : Function that mates 2 parents as per Order Crossover technique and returns the child\n",
    "mutate: Function that mutates child as per swap technique"
   ]
  },
  {
   "cell_type": "code",
   "execution_count": 7,
   "metadata": {},
   "outputs": [
    {
     "name": "stdout",
     "output_type": "stream",
     "text": [
      "Best route length found:  761.0\n",
      "Best route:  [3, 44, 28, 31, 9, 38, 42, 48, 24, 11, 46, 8, 29, 30, 43, 14, 23, 7, 37, 34, 50, 35, 1, 4, 32, 19, 27, 10, 17, 36, 13, 6, 15, 5, 21, 12, 26, 41, 47, 2, 39, 25, 22, 49, 40, 16, 33, 45, 18, 20]\n",
      "Best route initially found:  2037.0\n",
      "Improvement over initial route:  62.64113892979872 %\n"
     ]
    }
   ],
   "source": [
    "import random\n",
    "import xlrd\n",
    "\n",
    "Dist_Grid = Get_Dist_Data()\n",
    "\n",
    "Popln_size = 20 ; Iterations = 2000 ; Mutate_Freq = 0.01 ; Fit_Power = 5\n",
    "\n",
    "Length = len (Dist_Grid) -1 ; Popln = [] ; Children = [] ; Popln_fit = [] ; Fit_Inverse = []\n",
    "\n",
    "Best_Member = [] ; Best_Member_Fit = 0.0\n",
    "\n",
    "Popln = gen_popln (Length, Popln_size) # Generate 1st set of random parent population\n",
    "Popln_fit = fit_func (Popln) # Calculate route lengths for each parent of the population\n",
    "Best_Member_Fit = min (Popln_fit)\n",
    "Best_Member_Fit_Initial = min (Popln_fit)\n",
    "Best_Member = Popln [Popln_fit.index(Best_Member_Fit)]\n",
    "\n",
    "for Gen in range (Iterations):\n",
    "    Children = [] ; Fit_Inverse = [] # Reset Children and Fit_Inverse lists for each Generation\n",
    "    for k in Popln_fit:\n",
    "            Fit_Inverse.append (int(1/k*10000)**Fit_Power) #Calculate inverse of route length and raise it to power. 10,000 multiplier to avoid inverse value below 1 \n",
    "    for j in range (Popln_size):\n",
    "        Children.append (mate (random.choices(Popln, weights = Fit_Inverse, k=1)[0], random.choices(Popln, weights = Fit_Inverse, k=1)[0]))\n",
    "        #Above line picks two parents from population to mate. Higher weightage for members with better fitness (shorter route lenght). \n",
    "        #[0] is used since random.choices returns 2D list with one member (as k-1). [0] converts it to single member list\n",
    "        if Mutate_Freq > random.random():\n",
    "            Children[-1] = mutate (Children[-1]) # Mutates the last member in the Children population\n",
    "    Popln = Children # Assign Children as parents for next generation\n",
    "    Popln_fit = fit_func (Popln) # Calculate fitness of Child population (new parents)\n",
    "    if min (Popln_fit) < Best_Member_Fit: # Check if any member is better than previous generation. If yes, then store as best member and fitness\n",
    "        Best_Member_Fit = min (Popln_fit)\n",
    "        Best_Member = Popln [Popln_fit.index(Best_Member_Fit)]\n",
    "        \n",
    "print (\"Best route length found: \", Best_Member_Fit)\n",
    "print (\"Best route: \", Best_Member)\n",
    "print (\"Best route initially found: \", Best_Member_Fit_Initial)\n",
    "print (\"Improvement over initial route: \", (Best_Member_Fit_Initial - Best_Member_Fit) / Best_Member_Fit_Initial * 100, \"%\")"
   ]
  },
  {
   "cell_type": "code",
   "execution_count": 2,
   "metadata": {},
   "outputs": [],
   "source": [
    "def Get_Dist_Data ():\n",
    "    path = 'TSP_City Dist Data_v2.xlsx'\n",
    "    WB = xlrd.open_workbook(path)\n",
    "    Sheet = WB.sheet_by_index(1)\n",
    "    Dist_Grid = []\n",
    "    for rownum in range (Sheet.nrows):\n",
    "        Dist_Grid += [Sheet.row_values(rownum)]\n",
    "    Dist_Grid.remove(Dist_Grid[0]) # Deletes the header row\n",
    "    return Dist_Grid"
   ]
  },
  {
   "cell_type": "code",
   "execution_count": 3,
   "metadata": {},
   "outputs": [],
   "source": [
    "def mate (Parent1, Parent2):\n",
    "    Crssover1 = random.randint(0,Length-1) # First random crossover point\n",
    "    Crssover2 = random.randint(Crssover1+1,Length) # Second random crossover point\n",
    "    Child_temp1 = Parent1[Crssover1:Crssover2] # Selects string between the crossover points from Parent 1\n",
    "    Child_temp2 = Parent2[Crssover2:Length]+Parent2[0:Crssover2] # Selects string outside of crossover points from Parent 2. Starts after crossover 2 till end. Then rollsover to start till 1st corssover \n",
    "    Child_temp3 = Parent2[Crssover2:Length]+Parent2[0:Crssover2] # Same as Child_temp2\n",
    "    for position in Child_temp2:         # This loop deletes all duplicate cities from Parent 2 which are already picked from Parent 1 (between the crossover points)\n",
    "        if position in Child_temp1:\n",
    "            Child_temp3.remove (position) \n",
    "    Child = Child_temp1 + Child_temp3[0: Length-Crssover2] # adds string from Parent 2 after crossover point 2\n",
    "    Child = Child_temp3[Length-Crssover2:] + Child # adds string from Parent 2 before crossover point 1\n",
    "    return Child"
   ]
  },
  {
   "cell_type": "code",
   "execution_count": 4,
   "metadata": {},
   "outputs": [],
   "source": [
    "def mutate (Child):\n",
    "    mutate_position1 = random.randint (0, Length-1)\n",
    "    mutate_position2 = random.randint (0, Length-1)\n",
    "    Child[mutate_position1], Child[mutate_position2] = Child[mutate_position2], Child[mutate_position1] # Swaps 2 random cities\n",
    "    return Child"
   ]
  },
  {
   "cell_type": "code",
   "execution_count": 5,
   "metadata": {},
   "outputs": [],
   "source": [
    "def gen_popln (Length, Popln_size):\n",
    "    for num in range (Popln_size):\n",
    "        Member = list (range(1,Length+1)) # Generates sequence 1,2,3,.. till number of cities\n",
    "        random.shuffle (Member) # Shuffles the order of cities, creating a random route\n",
    "        Popln.append(Member)\n",
    "    return Popln"
   ]
  },
  {
   "cell_type": "code",
   "execution_count": 6,
   "metadata": {},
   "outputs": [],
   "source": [
    "def fit_func (Popln):\n",
    "    Popln_fit = []\n",
    "    for num in Popln: # Loops through each member of the population as num\n",
    "        fit = Dist_Grid[0][num[0]] # Adds distance from city 0 to the first city in the current member (which is num)\n",
    "        for i in range (len(num)-1): # Loop adds the distance between cities as per order in the member\n",
    "            fit += Dist_Grid[ num[i] ][ num[i+1] ]\n",
    "        fit += Dist_Grid[num[len(num)-1]][0] # Adds distance from last city back to city 0\n",
    "        Popln_fit.append(fit) # Appends the total route distance to the respective position in Popln_fit list\n",
    "    return Popln_fit    "
   ]
  },
  {
   "attachments": {},
   "cell_type": "markdown",
   "metadata": {},
   "source": [
    "## Results\n",
    "\n",
    "I tried various combinations of Population size, no. of iterations, Mutation probability and Fitness power. \n",
    "\n",
    "8 cities sample data:\n",
    "Got good results with 200 iterations and Fitness power of 2. Algorithm was able to find best route within 10% of absolute best in 5 out of 10 cases. Below are results\n",
    "\n",
    "Popln_size = 20 ; Iterations = 200 ; Mutate_Freq = 0.01 ; Fit_Power = 2\n",
    "\n",
    "Run\tBest Route length\tInitial Best route length\t% better than initial\t% gap from absolute best route (156)\n",
    "1\t204\t                204\t                        0%\t                    31%\n",
    "2\t194\t                307\t                        37%\t                    24%\n",
    "3\t162\t                336\t                        52%\t                    4%\n",
    "4\t186\t                287\t                        35%\t                    19%\n",
    "5\t193\t                321\t                        40%\t                    24%\n",
    "6\t156\t                300\t                        48%\t                    0%\n",
    "7\t162\t                210\t                        23%\t                    4%\n",
    "8\t162\t                270\t                        40%\t                    4%\n",
    "9\t156\t                262\t                        40%\t                    0%\n",
    "10\t186\t                298\t                        38%\t                    19%\n",
    "\n",
    "\n",
    "50 cities sample data:\n",
    "Got good results with 2000 iterations and Fit_Power of 5. The absolute best route of 708 is the best one the algorithm found across severals runs with varying parameters. Have high degree of confidence that this is very close absolute best (The average distance travelled between cities is less than 14 for this solution). Algorithm was able to find best route within 10% of absolute best in 3 out of 20 cases. More importantly, the solution was able to reduce the route length by more than half in all cases except one and in several cases reduced route length by more than a third. Below are results\n",
    "\n",
    "Popln_size = 20 ; Iterations = 2000 ; Mutate_Freq = 0.01 ; Fit_Power = 5\n",
    "\n",
    "Run\tBest Route length\tInitial Best route length\t% better than initial\t% gap from absolute best route (708)\n",
    "1\t963\t                2261\t                    57%\t                    36%\n",
    "2\t775\t                2438\t                    68%\t                    9%\n",
    "3\t1033\t            2305\t                    55%\t                    46%\n",
    "4\t776\t                2259\t                    66%\t                    10%\n",
    "5\t1124\t            1957\t                    43%                 \t59%\n",
    "6\t1039\t            2191\t                    53%\t                    47%\n",
    "7\t955\t                2137\t                    55%\t                    35%\n",
    "8\t708\t                2273\t                    69%\t                    0%\n",
    "9\t980\t                2200\t                    55%\t                    38%\n",
    "10\t857\t                2279\t                    62%\t                    21%\n",
    "11\t839\t                2203\t                    62%\t                    19%\n",
    "12\t849\t                2098\t                    60%\t                    20%\n",
    "13\t960\t                1888\t                    49%\t                    36%\n",
    "14\t960\t                2173\t                    56%\t                    36%\n",
    "15\t950\t                2110\t                    55%\t                    34%\n",
    "16\t830\t                2203\t                    62%\t                    17%\n",
    "17\t1054\t            2127\t                    50%\t                    49%\n",
    "18\t829\t                2402\t                    65%\t                    17%\n",
    "19\t900\t                2349\t                    62%\t                    27%\n",
    "20\t822\t                2363\t                    65%\t                    16%"
   ]
  }
 ],
 "metadata": {
  "kernelspec": {
   "display_name": "Python 3",
   "language": "python",
   "name": "python3"
  },
  "language_info": {
   "codemirror_mode": {
    "name": "ipython",
    "version": 3
   },
   "file_extension": ".py",
   "mimetype": "text/x-python",
   "name": "python",
   "nbconvert_exporter": "python",
   "pygments_lexer": "ipython3",
   "version": "3.7.0"
  }
 },
 "nbformat": 4,
 "nbformat_minor": 2
}
